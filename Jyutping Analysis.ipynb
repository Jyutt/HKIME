{
 "cells": [
  {
   "cell_type": "markdown",
   "metadata": {},
   "source": [
    "This Jupyter Notebook file will be our central location for analysis on Jyutping. The analysis in this notebook will help facilitate the planning of HKIME."
   ]
  },
  {
   "cell_type": "markdown",
   "metadata": {},
   "source": [
    "## Jyutping Dictionary Initialization"
   ]
  },
  {
   "cell_type": "code",
   "execution_count": 6,
   "metadata": {},
   "outputs": [],
   "source": [
    "from matplotlib import pyplot as plt\n",
    "from jyutping_dict import JyutpingDict\n",
    "import numpy as np"
   ]
  },
  {
   "cell_type": "code",
   "execution_count": 7,
   "metadata": {},
   "outputs": [
    {
     "name": "stdout",
     "output_type": "stream",
     "text": [
      "Dictionary of 701 Jyutpings mapping to 38643 different Chinese characters created\n"
     ]
    }
   ],
   "source": [
    "jd = JyutpingDict()"
   ]
  },
  {
   "cell_type": "markdown",
   "metadata": {},
   "source": [
    "## Statistics"
   ]
  },
  {
   "cell_type": "code",
   "execution_count": 8,
   "metadata": {},
   "outputs": [
    {
     "name": "stdout",
     "output_type": "stream",
     "text": [
      "Prefix Frequencies\n",
      "{'j': 3386, 'd': 1571, 'c': 2721, 'z': 3377, 'k': 1594, 'n': 1946, 'm': 1579, 'g': 3205, 's': 2827, 't': 1360, 'l': 3130, 'h': 2188, 'f': 1372, 'a': 736, 'p': 984, 'w': 1425, 'b': 1393, 'o': 363, 'e': 7, 'u': 15, 'i': 6}\n",
      "Suffix Frequencies\n",
      "{'u': 5720, 't': 2287, 'm': 2094, 'a': 901, 'g': 5555, 'i': 7049, 'p': 1245, 'n': 5714, 'o': 904, 'k': 3425, 'e': 291}\n",
      "2-gram Frequencies\n",
      "{'ja': 680, 'au': 2115, 'do': 298, 'ou': 1358, 'ca': 851, 'at': 1050, 'zi': 1043, 'im': 631, 'kw': 370, 'wa': 1474, 'aa': 5003, 'ng': 6684, 'ji': 1407, 'ga': 1618, 'ap': 772, 'di': 365, 'in': 2597, 'si': 850, 'to': 395, 'za': 1020, 'ma': 601, 'an': 3160, 'no': 128, 'lo': 625, 'du': 150, 'un': 2713, 'iu': 1010, 'ho': 515, 'ha': 858, 'ki': 200, 'it': 547, 'ai': 2390, 'da': 568, 'sa': 792, 'ke': 290, 'eo': 1821, 'oi': 1676, 'ei': 1263, 'fe': 70, 'jy': 720, 'yu': 1872, 'fa': 583, 'fu': 539, 'co': 448, 'ge': 299, 'ze': 404, 'hu': 148, 'la': 852, 'am': 1390, 'so': 325, 'oe': 929, 'en': 761, 'ju': 271, 'se': 488, 'on': 1971, 'pa': 266, 'ci': 720, 'hi': 310, 'wu': 580, 'ta': 449, 'ot': 203, 'fo': 174, 'mo': 313, 'zo': 392, 'ok': 768, 'su': 158, 'uk': 852, 'ik': 854, 'wo': 357, 'cy': 201, 'zu': 275, 'ip': 468, 'na': 249, 'lu': 243, 'ba': 484, 'gi': 371, 'ko': 186, 'ek': 322, 'gw': 776, 'ni': 214, 'li': 735, 'gu': 353, 'be': 157, 'ui': 431, 'he': 240, 'ak': 629, 'ka': 326, 'le': 589, 'bu': 209, 'go': 838, 'sy': 214, 'mi': 207, 'ti': 290, 'jo': 208, 'mu': 237, 'hy': 112, 'bi': 292, 'ut': 484, 'cu': 226, 'wi': 155, 'pi': 225, 'je': 100, 'zy': 243, 'pu': 172, 'ce': 275, 'dy': 50, 'pe': 149, 'bo': 251, 'de': 140, 'te': 75, 'po': 172, 'ne': 100, 'ku': 120, 'me': 155, 'tu': 96, 'ep': 5, 'ly': 86, 'ky': 102, 'gy': 77, 'ty': 55, 'ny': 12, 'nu': 49, 'gm': 2, 'hn': 2, 'hm': 3, 'um': 1, 'et': 3, 'fi': 6, 'eu': 5, 'we': 5, 'em': 1}\n"
     ]
    }
   ],
   "source": [
    "print(\"Prefix Frequencies\")\n",
    "print(jd.prefix_freq)\n",
    "print(\"Suffix Frequencies\")\n",
    "print(jd.suffix_freq)\n",
    "print(\"2-gram Frequencies\")\n",
    "print(jd.twoGram_freq)"
   ]
  },
  {
   "cell_type": "markdown",
   "metadata": {},
   "source": [
    "In the following graph, it is very clear which letters are more likely to be prefixes and which are more likely to be suffixes. So, this could be a potentially simple way to dissect Jyutping strings."
   ]
  },
  {
   "cell_type": "code",
   "execution_count": 10,
   "metadata": {
    "scrolled": true
   },
   "outputs": [
    {
     "data": {
      "text/plain": [
       "Text(0.5, 1.0, 'Suffix Frequencies')"
      ]
     },
     "execution_count": 10,
     "metadata": {},
     "output_type": "execute_result"
    },
    {
     "data": {
      "image/png": "[encoded data removed]",
      "text/plain": [
       "<Figure size 1080x360 with 2 Axes>"
      ]
     },
     "metadata": {
      "needs_background": "light"
     },
     "output_type": "display_data"
    }
   ],
   "source": [
    "fig, ax = plt.subplots(ncols=2, figsize=(15,5))\n",
    "ax[0].bar(jd.prefix_freq.keys(), jd.prefix_freq.values())\n",
    "ax[0].set_title(\"Prefix Frequencies\")\n",
    "ax[1].bar(jd.suffix_freq.keys(), jd.suffix_freq.values())\n",
    "ax[1].set_title(\"Suffix Frequencies\")"
   ]
  },
  {
   "cell_type": "markdown",
   "metadata": {},
   "source": [
    "## Disambiguating Jyutping Boundaries\n",
    "\n",
    "An intelligent IME should be able to determine the boundaries of the individual Jyutpings for each character.\n",
    "For example, we wish to seperate \"Jyutping (粤拼)\" into [\"jyut (粤)\", \"ping (拼)\"].\n",
    "\n",
    "### Goals:\n",
    "- Seperate Fuzzy Jyutping (模糊拼音 in regular pinyin IME's)\n",
    "- Seperate Incomplete Jyutping (\"dg\" -> \"點解\")\n",
    "\n",
    "### Problem Statement\n",
    "For a given input Jyutping string corresponding to two words $S$, define the event $s_i$ as being $S[i]$ is the last character of the Jyutping corresponding to the first word and $S[i + 1]$ is the first character for the next word. Thus, the problem can be expressed as finding $\\max_{i} \\mathbb{P}(s_i)$.\n",
    "\n",
    "\n",
    "\n",
    "### Head and Tail 2-gram Approach\n",
    "In the following, we will define $g_k$ as the 2-gram $S[k: k + 2]$. We will also let $H(g_k)$ and $T(g_k)$ denote the events that $g_k$ is a head 2-gram and a tail 2-gram respectively. \n",
    "\n",
    "It is reasonable to assume that $H$ and $T$ are independent. We will also make the assumption that $$\\max_{i} \\mathbb{P}(s_i) = \\max_i \\mathbb{P}(g_{i - 1} \\text{is a tail 2-gram} \\cap g_{i + 1}\n",
    "\\text{is a head 2-gram}),$$\n",
    "which we can simplify to\n",
    "$$\\max_i \\mathbb{P}(s_i) = \\max_i \\mathbb{P}(T(g_{i-1}) \\cap H(g_{i+1})) = \\max_i \\mathbb{P}(T(g_{i-1}))\\mathbb{P}(H(g_{i+1})).$$"
   ]
  },
  {
   "cell_type": "code",
   "execution_count": 39,
   "metadata": {},
   "outputs": [],
   "source": [
    "def ht2gram_boundary(jyutdict, jyutping_input):\n",
    "    # TODO: Edge cases for short inputs causing index OOB\n",
    "    # and case that no valid split could be found\n",
    "    \n",
    "    def get_2gram(g_k):\n",
    "        return jyutping_input[g_k : min(g_k + 2, len(jyutping_input))]\n",
    "    \n",
    "    def calculate_prob(s_i):\n",
    "        head_p = jyutdict.calc_twoGramTail_prob(get_2gram(s_i - 1))\n",
    "        tail_p = jyutdict.calc_twoGramHead_prob(get_2gram(s_i + 1))\n",
    "        return head_p * tail_p\n",
    "    \n",
    "    idxs = len(jyutping_input) - 1\n",
    "    probs = [calculate_prob(i) for i in range(idxs)]\n",
    "    max_i = max(range(idxs), key=calculate_prob)\n",
    "        \n",
    "    return max_i, jyutping_input[:max_i + 1], jyutping_input[max_i + 1:]"
   ]
  },
  {
   "cell_type": "code",
   "execution_count": 40,
   "metadata": {},
   "outputs": [
    {
     "name": "stdout",
     "output_type": "stream",
     "text": [
      "jyut ping\n",
      "jat dim\n",
      "ding ding\n",
      "caa siu\n"
     ]
    }
   ],
   "source": [
    "# 粵拼、一點、丁丁、叉燒\n",
    "jyutping_list = [\"jyutping\", \"jatdim\", \"dingding\", \"caasiu\"]\n",
    "for j_input in jyutping_list:\n",
    "    _, first, second = ht2gram_boundary(jd, j_input)\n",
    "    print(first, second)"
   ]
  },
  {
   "cell_type": "code",
   "execution_count": null,
   "metadata": {},
   "outputs": [],
   "source": []
  }
 ],
 "metadata": {
  "kernelspec": {
   "display_name": "Python 3",
   "language": "python",
   "name": "python3"
  },
  "language_info": {
   "codemirror_mode": {
    "name": "ipython",
    "version": 3
   },
   "file_extension": ".py",
   "mimetype": "text/x-python",
   "name": "python",
   "nbconvert_exporter": "python",
   "pygments_lexer": "ipython3",
   "version": "3.7.4"
  }
 },
 "nbformat": 4,
 "nbformat_minor": 2
}
