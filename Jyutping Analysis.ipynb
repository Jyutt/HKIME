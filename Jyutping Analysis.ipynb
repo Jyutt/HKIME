{
 "cells": [
  {
   "cell_type": "code",
   "execution_count": 64,
   "metadata": {},
   "outputs": [
    {
     "name": "stdout",
     "output_type": "stream",
     "text": [
      "Last updated on Fri Dec 20 16:47:53 2019 UTC\n"
     ]
    }
   ],
   "source": [
    "import time\n",
    "print(f\"Last updated on {time.asctime(time.gmtime())} UTC\")"
   ]
  },
  {
   "cell_type": "markdown",
   "metadata": {},
   "source": [
    "### Purpose\n",
    "\n",
    "The purpose of the Jyutping analysis in this notebook is twofold. One, to help facilitate the planning of HKIME.\n",
    "Two, to serve as documentation. We hope that any reader will be able to understand the technical inner workings of HKIME from reading this notebook.\n",
    "\n",
    "### Conventions\n",
    "For consistency and clarity, we will establish the convention of using a character to mean an individual Jyutping syllable or Chinese character such as \"粵\" and \"Jyut\". To further disambiguate, we may refer to Jyutping character as a syllable. We will define a word as a sequence of more than one characters that represents a distinct or more specific semantical meaning than the individual characters themselves. For instance, we will consider \"香港\" as a word. One may think of character and word in Chinese as 字 and 詞 respectively."
   ]
  },
  {
   "cell_type": "markdown",
   "metadata": {},
   "source": [
    "## Jyutping Dictionary Initialization"
   ]
  },
  {
   "cell_type": "code",
   "execution_count": 3,
   "metadata": {},
   "outputs": [],
   "source": [
    "from matplotlib import pyplot as plt\n",
    "from jyutping_dict import JyutpingDict\n",
    "import numpy as np"
   ]
  },
  {
   "cell_type": "code",
   "execution_count": 4,
   "metadata": {},
   "outputs": [
    {
     "name": "stdout",
     "output_type": "stream",
     "text": [
      "Dictionary of 701 Jyutpings mapping to 38643 different Chinese characters created\n"
     ]
    }
   ],
   "source": [
    "jd = JyutpingDict()"
   ]
  },
  {
   "cell_type": "markdown",
   "metadata": {},
   "source": [
    "## Statistics"
   ]
  },
  {
   "cell_type": "code",
   "execution_count": 63,
   "metadata": {},
   "outputs": [
    {
     "name": "stdout",
     "output_type": "stream",
     "text": [
      "Number of valid Jyutping 2-gram suffixes: 83\n",
      "Percentage of latin 2-grams that are valid 2-gram suffixes: 12.28%\n",
      "Number of valid Jyutping 2-gram prefixes: 113\n",
      "Percentage of latin 2-grams that are valid 2-gram prefixes: 16.72%\n"
     ]
    }
   ],
   "source": [
    "# TODO: Graph all this with matplotlib\n",
    "# print(\"Prefix Frequencies\")\n",
    "# print(jd.prefix_freq)\n",
    "# print(\"Suffix Frequencies\")\n",
    "# print(jd.suffix_freq)\n",
    "# print(\"2-gram Frequencies\")   # Plot with 2D heatmap\n",
    "# print(jd.twoGram_freq)\n",
    "num_suffixes = len(jd.twoGramTail_freq)\n",
    "num_prefixes = len(jd.twoGramHead_freq)\n",
    "print(f\"Number of valid Jyutping 2-gram suffixes: {num_suffixes}\")\n",
    "print(\"Percentage of latin 2-grams that are\", \\\n",
    "      f\"valid 2-gram suffixes: {num_suffixes * 100/(26 * 26):.2f}%\")\n",
    "print(f\"Number of valid Jyutping 2-gram prefixes: {num_prefixes}\")\n",
    "print(\"Percentage of latin 2-grams that are\", \\\n",
    "      f\"valid 2-gram prefixes: {num_prefixes * 100/(26 * 26):.2f}%\")"
   ]
  },
  {
   "cell_type": "code",
   "execution_count": 35,
   "metadata": {},
   "outputs": [
    {
     "name": "stdout",
     "output_type": "stream",
     "text": [
      "Jyutping Length Statistics\n"
     ]
    },
    {
     "data": {
      "text/plain": [
       "<BarContainer object of 6 artists>"
      ]
     },
     "execution_count": 35,
     "metadata": {},
     "output_type": "execute_result"
    },
    {
     "data": {
      "image/png": "[encoded data removed]",
      "text/plain": [
       "<Figure size 432x288 with 1 Axes>"
      ]
     },
     "metadata": {
      "needs_background": "light"
     },
     "output_type": "display_data"
    }
   ],
   "source": [
    "print(\"Jyutping Length Statistics\")\n",
    "jyutpingLength_dict = {}\n",
    "for key in jd.jyutdict:\n",
    "    if len(key) not in jyutpingLength_dict:\n",
    "        jyutpingLength_dict[len(key)] = len(jd.jyutdict[key])\n",
    "    else:\n",
    "        jyutpingLength_dict[len(key)] += len(jd.jyutdict[key])\n",
    "plt.bar(jyutpingLength_dict.keys(), jyutpingLength_dict.values())"
   ]
  },
  {
   "cell_type": "markdown",
   "metadata": {},
   "source": [
    "In the following graph, it is very clear which letters are more likely to be prefixes and which are more likely to be suffixes. So, this could be a potentially simple way to dissect Jyutping strings."
   ]
  },
  {
   "cell_type": "code",
   "execution_count": 6,
   "metadata": {
    "scrolled": true
   },
   "outputs": [
    {
     "data": {
      "text/plain": [
       "Text(0.5, 1.0, 'Suffix Frequencies')"
      ]
     },
     "execution_count": 6,
     "metadata": {},
     "output_type": "execute_result"
    },
    {
     "data": {
      "image/png": "[encoded data removed]",
      "text/plain": [
       "<Figure size 1080x360 with 2 Axes>"
      ]
     },
     "metadata": {
      "needs_background": "light"
     },
     "output_type": "display_data"
    }
   ],
   "source": [
    "fig, ax = plt.subplots(ncols=2, figsize=(15,5))\n",
    "ax[0].bar(jd.prefix_freq.keys(), jd.prefix_freq.values())\n",
    "ax[0].set_title(\"Prefix Frequencies\")\n",
    "ax[1].bar(jd.suffix_freq.keys(), jd.suffix_freq.values())\n",
    "ax[1].set_title(\"Suffix Frequencies\")"
   ]
  },
  {
   "cell_type": "markdown",
   "metadata": {},
   "source": [
    "## Splitting Jyutping Boundaries\n",
    "\n",
    "An intelligent IME should be able to determine the boundaries of the individual Jyutpings for each character.\n",
    "For example, we wish to split \"Jyutping (粤拼)\" into [\"jyut (粤)\", \"ping (拼)\"].\n",
    "\n",
    "### Goals:\n",
    "- Seperate Fuzzy Jyutping (模糊拼音 in regular pinyin IME's)\n",
    "- Seperate Incomplete Jyutping (\"dg\" -> \"點解\")\n",
    "\n",
    "### Problem Statement\n",
    "For a given input Jyutping string corresponding to two words $S$, define the event $s_i$ as being $S[i]$ is the last character of the Jyutping corresponding to the first word and $S[i + 1]$ is the first character for the next word. Thus, the problem can be expressed as finding $\\max_{i} \\mathbb{P}(s_i)$.\n",
    "\n",
    "\n",
    "\n",
    "### Head and Tail 2-gram Approach\n",
    "In the following, we will define $g_k$ as the 2-gram $S[k: k + 2]$. We will also let $H(g_k)$ and $T(g_k)$ denote the events that $g_k$ is a head 2-gram and a tail 2-gram respectively. \n",
    "\n",
    "It is reasonable to assume that $H$ and $T$ are independent. We will also make the assumption that $$\\max_{i} \\mathbb{P}(s_i) = \\max_i \\mathbb{P}(g_{i - 1} \\text{is a tail 2-gram} \\cap g_{i + 1}\n",
    "\\text{is a head 2-gram}),$$\n",
    "which we can simplify with our independence assumption to\n",
    "$$\\max_i \\mathbb{P}(s_i) = \\max_i \\mathbb{P}(T(g_{i-1}) \\cap H(g_{i+1})) = \\max_i \\mathbb{P}(T(g_{i-1}))\\mathbb{P}(H(g_{i+1})).$$"
   ]
  },
  {
   "cell_type": "code",
   "execution_count": 7,
   "metadata": {},
   "outputs": [],
   "source": [
    "def ht2gram_split(jyutdict, jyutping_input):\n",
    "    # TODO: Edge cases for short inputs causing index OOB\n",
    "    # and case that no valid split could be found\n",
    "    \n",
    "    def get_2gram(g_k):\n",
    "        return jyutping_input[g_k : min(g_k + 2, len(jyutping_input))]\n",
    "    \n",
    "    def calculate_prob(s_i):\n",
    "        head_p = jyutdict.calc_twoGramTail_prob(get_2gram(s_i - 1))\n",
    "        tail_p = jyutdict.calc_twoGramHead_prob(get_2gram(s_i + 1))\n",
    "        return head_p * tail_p\n",
    "    \n",
    "    idxs = len(jyutping_input) - 1\n",
    "    probs = [calculate_prob(i) for i in range(idxs)]\n",
    "    max_i = max(range(idxs), key=calculate_prob)\n",
    "        \n",
    "    return jyutping_input[:max_i + 1], jyutping_input[max_i + 1:]"
   ]
  },
  {
   "cell_type": "code",
   "execution_count": 8,
   "metadata": {},
   "outputs": [
    {
     "name": "stdout",
     "output_type": "stream",
     "text": [
      "jyut ping\n",
      "jat dim\n",
      "ding ding\n",
      "caa siu\n"
     ]
    }
   ],
   "source": [
    "# 粵拼、一點、丁丁、叉燒\n",
    "jyutping_list = [\"jyutping\", \"jatdim\", \"dingding\", \"caasiu\"]\n",
    "for j_input in jyutping_list:\n",
    "    first, second = ht2gram_split(jd, j_input)\n",
    "    print(first, second)"
   ]
  },
  {
   "cell_type": "code",
   "execution_count": 14,
   "metadata": {},
   "outputs": [],
   "source": [
    "# Accuracy testing with fuzzer input, may generate invalid words\n",
    "jyutping_list = list(jd.jyutdict.keys())\n",
    "num_jyutping = len(jyutping_list)\n",
    "def generate_random_pair():\n",
    "    a = np.random.randint(0, num_jyutping)\n",
    "    b = np.random.randint(0, num_jyutping)\n",
    "    return (jyutping_list[a] + jyutping_list[b],\n",
    "            jyutping_list[a],\n",
    "            jyutping_list[b])\n",
    "\n",
    "def generate_fuzz(count):\n",
    "    return [generate_random_pair() for i in range(count)]\n"
   ]
  },
  {
   "cell_type": "code",
   "execution_count": 10,
   "metadata": {},
   "outputs": [],
   "source": [
    "fuzz = generate_fuzz(5000)"
   ]
  },
  {
   "cell_type": "code",
   "execution_count": 31,
   "metadata": {},
   "outputs": [
    {
     "name": "stdout",
     "output_type": "stream",
     "text": [
      "Number of accurate segmentations: 4587\n",
      "Number of tests: 5000\n",
      "Percentage correct: 91.74%\n"
     ]
    }
   ],
   "source": [
    "accuracy_count = 0\n",
    "for j in fuzz:\n",
    "    jyutping_input = j[0]\n",
    "    first, second = ht2gram_split(jd, jyutping_input)\n",
    "    if first == j[1] and second == j[2]:\n",
    "        accuracy_count += 1\n",
    "    # else:\n",
    "    #     print(first, second, j[1], j[2])\n",
    "# print(\"----------------------------------------\")\n",
    "print(f\"Number of accurate segmentations: {accuracy_count}\")\n",
    "print(\"Number of tests: 5000\")\n",
    "print(f\"Percentage correct: {accuracy_count * 100 / 5000}%\")"
   ]
  },
  {
   "cell_type": "markdown",
   "metadata": {},
   "source": [
    "###  Extensions to the Head and Tail 2-gram Approach\n",
    "\n",
    "#### N-gram Approaches\n",
    "Now, you may be wondering, what about n-gram's? From the statistics section, we see that the bulk of Jyutping characters / syllables are either 3 or 4 *latin* characters long. Therefore, segmentation via n-grams for $n > 2$ will not be very helpful. However, 1-grams are worth exploring, and will be in the next section.\n",
    "\n",
    "\n",
    "#### Ranked Suggestions\n",
    "It is ok to not achieve best \n",
    "Here, we modify our `ht2gram_split()` method slightly to instead return a list of candidate splits ranked in order of likelihood. Since we know the entire list of valid Jyutpings (in `JyutpingDict`), we can eliminate splits with $0$ probability. Similarly, we also know that the correct split will have a guaranteed non-zero probability.  This will help negate the inaccuracy of our probabilistic method."
   ]
  },
  {
   "cell_type": "code",
   "execution_count": 25,
   "metadata": {},
   "outputs": [],
   "source": [
    "def ht2gram_split_list(jyutdict, jyutping_input):\n",
    "    # TODO: Edge cases for short inputs causing index OOB\n",
    "    # and case that no valid split could be found\n",
    "    \n",
    "    def get_2gram(g_k):\n",
    "        return jyutping_input[g_k : min(g_k + 2, len(jyutping_input))]\n",
    "    \n",
    "    def calculate_prob(s_i):\n",
    "        head_p = jyutdict.calc_twoGramTail_prob(get_2gram(s_i - 1))\n",
    "        tail_p = jyutdict.calc_twoGramHead_prob(get_2gram(s_i + 1))\n",
    "        return head_p * tail_p\n",
    "    \n",
    "    idxs = list(range(len(jyutping_input) - 1))\n",
    "    probs = [calculate_prob(i) for i in idxs]\n",
    "    idxs.sort(key=calculate_prob)\n",
    "    idxs = list(filter(lambda x: x > 0, idxs))\n",
    "    \n",
    "    def idx_to_split(idx):\n",
    "        return (jyutping_input[:idx + 1], jyutping_input[idx + 1:])\n",
    "        \n",
    "    return [idx_to_split(idx) for idx in idxs]\n"
   ]
  },
  {
   "cell_type": "code",
   "execution_count": 32,
   "metadata": {},
   "outputs": [
    {
     "name": "stdout",
     "output_type": "stream",
     "text": [
      "----------------------------------------\n",
      "Number of accurate segmentations: 4979\n",
      "Number of tests: 5000\n",
      "Percentage correct: 99.58%\n"
     ]
    }
   ],
   "source": [
    "accuracy_count = 0\n",
    "for j in fuzz:\n",
    "    jyutping_input = j[0]\n",
    "    candidates = ht2gram_split_list(jd, jyutping_input)\n",
    "    if (j[1], j[2]) in candidates:\n",
    "        accuracy_count += 1\n",
    "    # else:\n",
    "    #     print(candidates, (j[1], j[2]))\n",
    "print(\"----------------------------------------\")\n",
    "print(f\"Number of accurate segmentations: {accuracy_count}\")\n",
    "print(\"Number of tests: 5000\")\n",
    "print(f\"Percentage correct: {accuracy_count * 100 / 5000}%\")\n",
    "\n",
    "# TODO, as we can see if you uncomment the else statement,\n",
    "# we really need to handle the short jyutping cases"
   ]
  },
  {
   "cell_type": "markdown",
   "metadata": {},
   "source": [
    "### Adaptations of Head and Tail to 1-grams\n",
    "\n",
    "We willl now experiment with using 1-grams. The reason behind exploring this approach is that most modern IMEs are intelligent enough to predict based on a \"one-to-one\" mapping of individual *latin* characters to individual *Chinese* characters. For instance, we wish to be able to predict \"dg\" -> \"點解\".\n",
    "\n",
    "Seperating a string into individual characters is a trivial task. However, we also wish to be able to interpret a mixture of 1-grams corresponding to certain characters and n-grams corresponding to complete Jyutping syllables, which is slightly more involved. That is, being able to disambiguate \"dig\" -> \"dim'g\" -> \"點解\"."
   ]
  },
  {
   "cell_type": "code",
   "execution_count": null,
   "metadata": {},
   "outputs": [],
   "source": []
  }
 ],
 "metadata": {
  "kernelspec": {
   "display_name": "Python 3",
   "language": "python",
   "name": "python3"
  },
  "language_info": {
   "codemirror_mode": {
    "name": "ipython",
    "version": 3
   },
   "file_extension": ".py",
   "mimetype": "text/x-python",
   "name": "python",
   "nbconvert_exporter": "python",
   "pygments_lexer": "ipython3",
   "version": "3.7.4"
  }
 },
 "nbformat": 4,
 "nbformat_minor": 2
}
