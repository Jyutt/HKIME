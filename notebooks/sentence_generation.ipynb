{
 "cells": [
  {
   "cell_type": "markdown",
   "metadata": {},
   "source": [
    "In this notebook, we will detail the sentence generation process. Sentence prediction is an integral part of a good IME. Sentence generation given input Jyutping syllables can be described as a Hidden Markov Model (HMM).\n",
    "\n",
    "### TODO\n",
    "- Write up explanations"
   ]
  },
  {
   "cell_type": "code",
   "execution_count": 63,
   "metadata": {},
   "outputs": [],
   "source": [
    "from distribution import Distribution\n",
    "from jyutping_dict import JyutpingDict\n",
    "import graph"
   ]
  },
  {
   "cell_type": "code",
   "execution_count": 66,
   "metadata": {},
   "outputs": [
    {
     "name": "stdout",
     "output_type": "stream",
     "text": [
      "Adding lihkg_corpus to distribution...\n",
      "Adding lihkg_corpus2 to distribution...\n",
      "Adding wikipedia_jyut_corpus to distribution...\n"
     ]
    }
   ],
   "source": [
    "d = Distribution(n=2)\n",
    "# Building up our distribution with our corpuses\n",
    "with open('sources/lihkg_corpus') as f:\n",
    "    print(\"Adding lihkg_corpus to distribution...\")\n",
    "    for line in f:\n",
    "        for idx in range(len(line) - 1):\n",
    "            d.add_occurence(str(line[idx: idx + 2]))\n",
    "with open('sources/lihkg_corpus2') as f:\n",
    "    print(\"Adding lihkg_corpus2 to distribution...\")\n",
    "    for line in f:\n",
    "        for idx in range(len(line) - 1):\n",
    "            d.add_occurence(str(line[idx: idx + 2]))\n",
    "            \n",
    "with open('sources/wikipedia_jyut_corpus') as f:\n",
    "    print(\"Adding wikipedia_jyut_corpus to distribution...\")\n",
    "    for line in f:\n",
    "        for idx in range(len(line) - 1):\n",
    "            d.add_occurence(str(line[idx: idx + 2]))"
   ]
  },
  {
   "cell_type": "code",
   "execution_count": 67,
   "metadata": {},
   "outputs": [],
   "source": [
    "jd = JyutpingDict()"
   ]
  },
  {
   "cell_type": "code",
   "execution_count": 68,
   "metadata": {},
   "outputs": [
    {
     "name": "stdout",
     "output_type": "stream",
     "text": [
      "List of w_i ranked in order of P(w_i | w_i-1 = 點)\n",
      "['樣', '。', '解', '嘅', '係', '知', '心', '之', '同']\n"
     ]
    }
   ],
   "source": [
    "prior = list(d.counter['點'].keys())\n",
    "prior.sort(key=lambda x: d.counter['點'][x])\n",
    "print(\"List of w_i ranked in order of P(w_i | w_i-1 = 點)\")\n",
    "print(prior[:-10:-1])"
   ]
  },
  {
   "cell_type": "code",
   "execution_count": 69,
   "metadata": {},
   "outputs": [],
   "source": [
    "s = graph.SentenceGraph(jd, d)"
   ]
  },
  {
   "cell_type": "code",
   "execution_count": 70,
   "metadata": {},
   "outputs": [
    {
     "name": "stdout",
     "output_type": "stream",
     "text": [
      "['syu', 'jap', 'faat']\n"
     ]
    }
   ],
   "source": [
    "char_list = list(\"輸入法\")\n",
    "possible_jyutpings = list(map(jd.char2jyut, char_list))\n",
    "jyutping_list = [j[0][:-1] for j in possible_jyutpings]\n",
    "print(jyutping_list)"
   ]
  },
  {
   "cell_type": "code",
   "execution_count": 71,
   "metadata": {},
   "outputs": [],
   "source": [
    "s.generate(jyutping_list)"
   ]
  },
  {
   "cell_type": "code",
   "execution_count": 72,
   "metadata": {},
   "outputs": [
    {
     "name": "stdout",
     "output_type": "stream",
     "text": [
      "24 52 46\n"
     ]
    }
   ],
   "source": [
    "cl = char_list\n",
    "c1, c2, c3 = s.reverse_map[cl[0]], s.reverse_map[cl[1]], s.reverse_map[cl[2]]\n",
    "print(c1, c2, c3)"
   ]
  },
  {
   "cell_type": "code",
   "execution_count": 73,
   "metadata": {},
   "outputs": [],
   "source": [
    "x, T1, T2 = s.viterbi()"
   ]
  },
  {
   "cell_type": "code",
   "execution_count": 74,
   "metadata": {},
   "outputs": [
    {
     "name": "stdout",
     "output_type": "stream",
     "text": [
      "['輸', '入', '法']\n"
     ]
    }
   ],
   "source": [
    "print(list(map(lambda r: s.state_map[r], x)))"
   ]
  },
  {
   "cell_type": "code",
   "execution_count": 75,
   "metadata": {},
   "outputs": [
    {
     "name": "stdout",
     "output_type": "stream",
     "text": [
      "Transitions for 輸:\n",
      "署\n",
      "法\n",
      "入\n",
      "發\n",
      "Transitions for 入:\n",
      "書\n",
      "輸\n",
      "豎\n",
      "法\n",
      "入\n",
      "處\n",
      "發\n",
      "庶\n",
      "Transitions for 法:\n",
      "書\n",
      "法\n",
      "入\n",
      "處\n",
      "發\n"
     ]
    }
   ],
   "source": [
    "d = s.transition.shape[0]\n",
    "print(f\"Transitions for {s.state_map[c1]}:\")\n",
    "for i in range(d):\n",
    "    if s.transition[i][c1] > 0:\n",
    "        print(s.state_map[i])\n",
    "\n",
    "print(f\"Transitions for {s.state_map[c2]}:\")\n",
    "for i in range(d):\n",
    "    if s.transition[i][c2] > 0:\n",
    "        print(s.state_map[i])\n",
    "        \n",
    "print(f\"Transitions for {s.state_map[c3]}:\")\n",
    "for i in range(d):\n",
    "    if s.transition[i][c3] > 0:\n",
    "        print(s.state_map[i])"
   ]
  },
  {
   "cell_type": "code",
   "execution_count": 76,
   "metadata": {},
   "outputs": [],
   "source": [
    "def jyut2char_list(jyut_list):\n",
    "    s.generate(jyut_list)\n",
    "    x, T1, T2 = s.viterbi()\n",
    "    return list(map(lambda r: s.state_map[r], x))"
   ]
  },
  {
   "cell_type": "code",
   "execution_count": 77,
   "metadata": {},
   "outputs": [
    {
     "data": {
      "text/plain": [
       "['點', '算']"
      ]
     },
     "execution_count": 77,
     "metadata": {},
     "output_type": "execute_result"
    }
   ],
   "source": [
    "jyut2char_list(['dim', 'syun'])"
   ]
  },
  {
   "cell_type": "code",
   "execution_count": 78,
   "metadata": {},
   "outputs": [],
   "source": [
    "# print(s.emission.shape)\n",
    "# emits = []\n",
    "# for i in range(181):\n",
    "#    if s.emission[2][i] == 1:\n",
    "#        emits.append(i)\n",
    "# print(emits)\n",
    "# print(list(map(lambda x: s.state_map[x], emits)))"
   ]
  },
  {
   "cell_type": "code",
   "execution_count": 79,
   "metadata": {},
   "outputs": [],
   "source": [
    "# jl = jyutping_list\n",
    "# print(d.posterior('解', '點'))\n",
    "# print(d.posterior('釋','解'))"
   ]
  },
  {
   "cell_type": "code",
   "execution_count": 47,
   "metadata": {},
   "outputs": [
    {
     "name": "stdout",
     "output_type": "stream",
     "text": [
      "['dim', 'syun']\n"
     ]
    }
   ],
   "source": [
    "char_list = list(\"點算\")\n",
    "possible_jyutpings = list(map(jd.char2jyut, char_list))\n",
    "jyutping_list = [j[0][:-1] for j in possible_jyutpings]\n",
    "print(jyutping_list)"
   ]
  }
 ],
 "metadata": {
  "kernelspec": {
   "display_name": "Python 3",
   "language": "python",
   "name": "python3"
  },
  "language_info": {
   "codemirror_mode": {
    "name": "ipython",
    "version": 3
   },
   "file_extension": ".py",
   "mimetype": "text/x-python",
   "name": "python",
   "nbconvert_exporter": "python",
   "pygments_lexer": "ipython3",
   "version": "3.7.4"
  }
 },
 "nbformat": 4,
 "nbformat_minor": 2
}
